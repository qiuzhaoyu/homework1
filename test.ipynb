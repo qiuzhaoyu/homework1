{
 "cells": [
  {
   "cell_type": "code",
   "execution_count": 4,
   "metadata": {},
   "outputs": [
    {
     "name": "stdout",
     "output_type": "stream",
     "text": [
      "图像矩阵生成完成并已保存为 PNG！\n"
     ]
    }
   ],
   "source": [
    "import os\n",
    "import cv2\n",
    "import numpy as np\n",
    "\n",
    "# 定义参数\n",
    "num_rows, num_cols = 16, 16\n",
    "image_height, image_width = 240, 320  # 每张图像的分辨率\n",
    "input_folder = './toyLF'  # 输入文件夹\n",
    "output_image_path = './light_field_matrix.png'  # 输出矩阵图像的路径\n",
    "\n",
    "# 初始化用于存储图像的 NumPy 数组\n",
    "light_field_images = np.zeros((num_rows, num_cols, image_height, image_width, 3), dtype=np.uint8)\n",
    "\n",
    "def load_images_to_matrix(folder):\n",
    "    counter = 1\n",
    "    for row in range(num_rows):\n",
    "        for col in range(num_cols):\n",
    "            filename = os.path.join(folder, f'lowtoys{counter:03d}.bmp')\n",
    "            img = cv2.imread(filename)\n",
    "            if img is not None:\n",
    "                img = cv2.resize(img, (image_width, image_height))  # 确保图像大小一致\n",
    "                light_field_images[row, col] = img  # 将图像存储在数组中\n",
    "                counter += 1\n",
    "            else:\n",
    "                print(f\"图像 {filename} 未找到\")\n",
    "\n",
    "def create_matrix_image():\n",
    "    # 创建一个大的图像矩阵\n",
    "    matrix_image = np.zeros((num_rows * image_height, num_cols * image_width, 3), dtype=np.uint8)\n",
    "    for row in range(num_rows):\n",
    "        for col in range(num_cols):\n",
    "            matrix_image[row * image_height:(row + 1) * image_height,\n",
    "                         col * image_width:(col + 1) * image_width] = light_field_images[row, col]\n",
    "    return matrix_image\n",
    "\n",
    "load_images_to_matrix(input_folder)\n",
    "matrix_image = create_matrix_image()\n",
    "\n",
    "# 保存矩阵图像为 PNG 格式\n",
    "cv2.imwrite(output_image_path, matrix_image)\n",
    "\n",
    "print(\"图像矩阵生成完成并已保存为 PNG！\")\n"
   ]
  }
 ],
 "metadata": {
  "kernelspec": {
   "display_name": "cv2",
   "language": "python",
   "name": "python3"
  },
  "language_info": {
   "codemirror_mode": {
    "name": "ipython",
    "version": 3
   },
   "file_extension": ".py",
   "mimetype": "text/x-python",
   "name": "python",
   "nbconvert_exporter": "python",
   "pygments_lexer": "ipython3",
   "version": "3.6.13"
  }
 },
 "nbformat": 4,
 "nbformat_minor": 2
}
